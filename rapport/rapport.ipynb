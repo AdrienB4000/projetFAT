{
 "cells": [
  {
   "attachments": {},
   "cell_type": "markdown",
   "metadata": {},
   "source": [
    "# Rapport projet FAT (Barreaux Alexis - Belfer Adrien)\n"
   ]
  },
  {
   "attachments": {},
   "cell_type": "markdown",
   "metadata": {},
   "source": [
    "## Modélisation\n",
    "\n",
    "On suppose dans le modèle des colonies que le taux de passage de l'état $n$ à l'état $T_{jk}(n)$ (ie un vélo est passé de la colonie j à la colonie k), notée $q(n,T_{jk}(n))$, vérifie $q(n,T_{jk}(n)) = \\lambda_{jk}\\phi_j(n_j), \\phi_j(0)=0$\n",
    "\n",
    "De plus, on a bien ici que le système est irréductible car on peut aller de toute station (a fortiori colonie) à toute autre en un nombre fini d'étapes. Donc on se trouve bien dans un processus fermé de migration.\n",
    "\n",
    "Si on est dans une colonie qui correspond à une route, on est forcément \"servi\" et tout se passe comme si on avait un nombre infini de serveurs. Si on est dans une station par contre, on ne peut être \"servi\" que si il y a un vélo en place. Dans toute la suite, les 5 premières colonies correspondent aux stations et les 20 suivantes aux routes. On a donc :\n",
    "\n",
    "$\\phi_j(n) = n_j$ si $j \\geq 6, \\displaystyle{1\\!\\!1_{\\{n_j\\geq1\\}}}$ sinon.\n",
    "\n",
    "De même, si on est dans une colonie j qui correspond à une route, $\\lambda_{jk}$ est nul si k n'est pas la destination de la route et sinon correspond à l'inverse du temps moyen de parcours. C'est-à-dire, si on est dans la colonie qui correspond à la route $1 \\rightarrow 2$ par exemple, $\\lambda_{jk} = 0, k \\ne2$ et $\\lambda_{jk} = 60 *\\frac{1}{3}$ sinon, où le 60 intervient pour être homogène en heures.\n",
    "\n",
    "Si par contre $j \\leq 5$, on se trouve dans une colonie et $\\lambda_{jk}$ est nul si k n'est pas une route partant de cette colonie, et vaut la probabilité de choisir le chemin $j \\rightarrow k$ multiplié par le taux de départ de j. Soit par exemple si on se trouve dans la station 1 et qu'on part vers 2: $\\lambda_{jk}= 0.22 * 2.8$.\n",
    "\n",
    "D'où au final:\n",
    "- si $(j,k) \\not\\in $ $$\\{(1, 6), (1, 7), (1, 8), (1, 9), (2, 10), (2, 11), (2, 12), (2, 13), (3, 14), (3, 15), \\\\\n",
    "(3, 16), (3, 17),(4, 18), (4, 19), (4, 20), (4, 21), (5, 22), (5, 23), (5, 24), (5, 25) \\} \\\\ \n",
    "\\cup\\{ (6, 2), (7, 3), (8, 4), (9, 5), (10, 1), (11, 3), (12, 4), (13, 5), (14, 1), (15, 2), (16, 4),\\\\\n",
    " (17, 5), (18, 1), (19, 2), (20, 3), (21, 5), (22, 1), (23, 2), (24, 3), (25, 4)\\}$$\n",
    "$q(n,T_{jk}(n))=0$\n",
    "- sinon et si $j \\leq 5$: $q(n,T_{jk}(n))= p_{j,k}*\\lambda_j* \\displaystyle{1\\!\\!1_{\\{n_j\\geq1\\}}}$, où $p_{j,k}$ la probabilité d'aller de j à k dans la matrice de routage et $\\lambda_j$ le taux de départ de la station.\n",
    "- sinon et si $j \\geq 6$: $q(n,T_{jk}(n))= 60 * \\frac{1}{t_j} * n_j$, où $t_j$ est le temps moyen du trajet en minutes."
   ]
  },
  {
   "attachments": {},
   "cell_type": "markdown",
   "metadata": {},
   "source": [
    "## Calcul théorique"
   ]
  },
  {
   "attachments": {},
   "cell_type": "markdown",
   "metadata": {},
   "source": [
    "### (1) Equations de trafic\n",
    "\n",
    "On sait que l'on cherche une loi stationnaire sous la forme:\n",
    "\n",
    "$\\displaystyle\\pi(n)=G_n^{-1}*\\prod_{j=1}^{25}\\frac{\\alpha_j^{n_j}}{\\displaystyle\\prod_{r=1}^{n_j}\\phi_j(r)}$\n",
    "\n",
    "Donc pour $j \\geq 6$ on a un terme en $\\frac{\\alpha_j^{n_j}}{n_j!}$ et pour $j \\leq 5$ un terme $\\alpha_j^{n_j}$ car alors $\\displaystyle\\prod_{r=1}^{n_j}\\phi_j(r) = \\prod_{r=1}^{n_j}\\displaystyle{1\\!\\!1_{\\{r\\geq1\\}}} = 1$.\n",
    "\n",
    "Soit $\\displaystyle\\pi(n)=G_n^{-1}*\\prod_{j=1}^{5}\\alpha_j^{n_j}*\\prod_{j=6}^{25}\\frac{\\alpha_j^{n_j}}{n_j!}$\n",
    "\n",
    "Où, par les équations de balance locale sur $\\pi$, les $\\alpha_j$ vérifie les équations de trafic : \n",
    "$\\alpha_j\\displaystyle\\sum_k\\lambda_{j,k} =\\sum_k\\alpha_k\\lambda_{k,j} $, avec $\\alpha_j>0$ et $\\displaystyle\\sum_j\\alpha_j=1$"
   ]
  },
  {
   "attachments": {},
   "cell_type": "markdown",
   "metadata": {},
   "source": [
    "Ce qui nous donne, en retirant les $\\lambda$ nuls:\n",
    "- si $j\\leq 5$: $\\alpha_j \\sum_{k \\in R_j^+}\\lambda_{j, k}= \\sum_{k \\in R_j^-}\\alpha_{k} * \\lambda_{k, j}$ où $R_j^+$ et $R_j^-$ sont respectivement les indices des routes dont j est le départ et celles dont j est l'arrivée.\n",
    "- si $j\\geq 6$: $\\alpha_j * \\lambda_{j, k_{dest}}= \\alpha_{k_{départ}} * \\lambda_{k_{départ}, j} $ où $k_{dest}$ est l'unique colonie destination de cette route et $k_{départ}$ est l'unique colonie de départ de cette route."
   ]
  },
  {
   "attachments": {},
   "cell_type": "markdown",
   "metadata": {},
   "source": [
    "Soit par exemple pour:\n",
    "- j = 1: $\\alpha_1 * (\\lambda_{1, 6} + \\lambda_{1, 7} + \\lambda_{1, 8} + \\lambda_{1, 9})= \\alpha_{10} * \\lambda_{10, 1} + \\alpha_{14} * \\lambda_{14, 1} + \\alpha_{18} * \\lambda_{18, 1} + \\alpha_{22} * \\lambda_{22, 1}$\n",
    "- j = 6: $\\alpha_6 * \\lambda_{6, 2}= \\alpha_1 * \\lambda_{1, 6} $"
   ]
  },
  {
   "attachments": {},
   "cell_type": "markdown",
   "metadata": {},
   "source": [
    "### (2) Espace d'état\n",
    "\n",
    "Si on a un seul vélo, l'espace d'état S est réduit à :\n",
    "$S=\\{ n\\in \\{0,1\\}^J, \\sum_{j=1}^J n_j = 1\\}$,où J est le nombre total de colonies.\n",
    "\n",
    "Soit ici J = nombre de stations + nombre de routes, ie $J= 5 + 5(5-1) = 25$\n",
    "\n",
    "Donc on est réduit à choisir dans quelle colonie se trouve l'unique vélo $|S| = |J| = 25$."
   ]
  },
  {
   "cell_type": "markdown",
   "metadata": {},
   "source": []
  }
 ],
 "metadata": {
  "kernelspec": {
   "display_name": "Python 3",
   "language": "python",
   "name": "python3"
  },
  "language_info": {
   "codemirror_mode": {
    "name": "ipython",
    "version": 3
   },
   "file_extension": ".py",
   "mimetype": "text/x-python",
   "name": "python",
   "nbconvert_exporter": "python",
   "pygments_lexer": "ipython3",
   "version": "3.10.2 (tags/v3.10.2:a58ebcc, Jan 17 2022, 14:12:15) [MSC v.1929 64 bit (AMD64)]"
  },
  "orig_nbformat": 4,
  "vscode": {
   "interpreter": {
    "hash": "a0640559756d26b7d7d4e24718f12fe867862a4dd781109e44185d497419106b"
   }
  }
 },
 "nbformat": 4,
 "nbformat_minor": 2
}
