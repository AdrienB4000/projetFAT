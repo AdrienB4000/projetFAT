{
  "cells": [
    {
      "cell_type": "markdown",
      "metadata": {
        "id": "_6YLSO09KKQe"
      },
      "source": [
        "# Rapport projet FAT (Barreaux Alexis - Belfer Adrien)\n"
      ]
    },
    {
      "cell_type": "markdown",
      "metadata": {
        "id": "z18BHMC7KKQi"
      },
      "source": [
        "## Modélisation"
      ]
    },
    {
      "attachments": {},
      "cell_type": "markdown",
      "metadata": {
        "id": "73M2qZ96KKQj"
      },
      "source": [
        "Cette partie contient simplement les choix fait en terme de modélisation et le calcul des $\\alpha$, elle peut donc être passée au besoin pour arriver à la partie théorique."
      ]
    },
    {
      "cell_type": "markdown",
      "metadata": {
        "id": "zlAra60UKKQk"
      },
      "source": [
        "### Modèle utilisé"
      ]
    },
    {
      "cell_type": "markdown",
      "metadata": {
        "id": "k9hViW8yKKQk"
      },
      "source": [
        "On suppose dans le modèle des colonies que le taux de passage de l'état $n$ à l'état $T_{jk}(n)$ (ie un vélo est passé de la colonie j à la colonie k), notée $q(n,T_{jk}(n))$, vérifie $q(n,T_{jk}(n)) = \\lambda_{jk}\\phi_j(n_j), \\phi_j(0)=0$\n",
        "\n",
        "De plus, on a bien ici que le système est irréductible car on peut aller de toute station (a fortiori colonie) à toute autre en un nombre fini d'étapes. Donc on se trouve dans un processus fermé de migration.\n",
        "\n",
        "Si on est dans une colonie qui correspond à une route, on est forcément \"servi\" et tout se passe comme si on avait un nombre infini de serveurs. Si on est dans une station par contre, on ne peut être \"servi\" que si il y a un vélo en place. Dans toute la suite, les 5 premières colonies correspondent aux stations et les 20 suivantes aux routes. On a donc :\n",
        "\n",
        "$\\phi_j(n) = n_j$ si $j \\geq 6, \\displaystyle{1\\!\\!1_{\\{n_j\\geq1\\}}}$ sinon.\n",
        "\n",
        "De même, si on est dans une colonie j qui correspond à une route, $\\lambda_{jk}$ est nul si k n'est pas la destination de la route et sinon correspond à l'inverse du temps moyen de parcours. C'est-à-dire, si on est dans la colonie qui correspond à la route $1 \\rightarrow 2$ par exemple, $\\lambda_{jk} = 0, k \\ne2$ et $\\lambda_{jk} = 60 *\\frac{1}{3}$ sinon, où le 60 intervient pour être homogène en heures.\n",
        "\n",
        "Si par contre $j \\leq 5$, on se trouve dans une colonie et $\\lambda_{jk}$ est nul si k n'est pas une route partant de cette colonie, et vaut la probabilité de choisir le chemin $j \\rightarrow k$ multiplié par le taux de départ de j. Soit par exemple si on se trouve dans la station 1 et qu'on part vers 2: $\\lambda_{jk}= 0.22 * 2.8$.\n",
        "\n",
        "D'où au final:\n",
        "- si $(j,k) \\not\\in $ $$\\{(1, 6), (1, 7), (1, 8), (1, 9), (2, 10), (2, 11), (2, 12), (2, 13), (3, 14), (3, 15), \\\\\n",
        "(3, 16), (3, 17),(4, 18), (4, 19), (4, 20), (4, 21), (5, 22), (5, 23), (5, 24), (5, 25) \\} \\\\ \n",
        "\\cup\\{ (6, 2), (7, 3), (8, 4), (9, 5), (10, 1), (11, 3), (12, 4), (13, 5), (14, 1), (15, 2), (16, 4),\\\\\n",
        " (17, 5), (18, 1), (19, 2), (20, 3), (21, 5), (22, 1), (23, 2), (24, 3), (25, 4)\\}$$\n",
        "$q(n,T_{jk}(n))=0$\n",
        "- sinon et si $j \\leq 5$: $q(n,T_{jk}(n))= p_{j,k}*\\lambda_j* \\displaystyle{1\\!\\!1_{\\{n_j\\geq1\\}}}$, où $p_{j,k}$ est la probabilité en étant dans la colonie/station j de choisir le trajet associé à la colonie k (voir la matrice de routage) et $\\lambda_j$ le taux de départ de la station.\n",
        "- sinon et si $j \\geq 6$: $q(n,T_{jk}(n))= 60 * \\frac{1}{t_j} * n_j$, où $t_j$ est le temps moyen du trajet associé à la colonie en minutes."
      ]
    },
    {
      "cell_type": "markdown",
      "metadata": {
        "id": "DIIgaF2AKKQl"
      },
      "source": [
        "### Loi stationnaire"
      ]
    },
    {
      "cell_type": "markdown",
      "metadata": {
        "id": "QyG35SbPKKQm"
      },
      "source": [
        "#### Calcul des $\\lambda_{j,k}$"
      ]
    },
    {
      "cell_type": "code",
      "execution_count": null,
      "metadata": {
        "id": "rdDNo9GiKKQn",
        "outputId": "cc9168a0-7966-464c-ade8-a53d02c90e63"
      },
      "outputs": [
        {
          "name": "stdout",
          "output_type": "stream",
          "text": [
            "{(1, 6): 0.616, (1, 7): 0.8959999999999999, (1, 8): 0.5599999999999999, (1, 9): 0.728, (2, 10): 0.6290000000000001, (2, 11): 1.2580000000000002, (2, 12): 0.777, (2, 13): 1.0360000000000003, (3, 14): 1.045, (3, 15): 1.4300000000000002, (3, 16): 1.3199999999999998, (3, 17): 1.705, (4, 18): 0.5950000000000001, (4, 19): 0.77, (4, 20): 1.155, (4, 21): 0.9800000000000001, (5, 22): 0.828, (5, 23): 1.1039999999999999, (5, 24): 1.6099999999999999, (5, 25): 1.058, (6, 2): 20.0, (7, 3): 12.0, (8, 4): 8.571428571428571, (9, 5): 8.571428571428571, (10, 1): 30.0, (11, 3): 30.0, (12, 4): 12.0, (13, 5): 12.0, (14, 1): 15.0, (15, 2): 30.0, (16, 4): 20.0, (17, 5): 20.0, (18, 1): 7.5, (19, 2): 10.0, (20, 3): 15.0, (21, 5): 30.0, (22, 1): 8.571428571428571, (23, 2): 8.571428571428571, (24, 3): 12.0, (25, 4): 30.0}\n"
          ]
        }
      ],
      "source": [
        "def source_station_of_route_colony_i(i:int):\n",
        "    return ((i-6)//4) + 1\n",
        "\n",
        "# Data definition\n",
        "valid_values_j_k = [\n",
        "    (1, 6),\n",
        "    (1, 7),\n",
        "    (1, 8),\n",
        "    (1, 9),\n",
        "    (2, 10),\n",
        "    (2, 11),\n",
        "    (2, 12),\n",
        "    (2, 13),\n",
        "    (3, 14),\n",
        "    (3, 15),\n",
        "    (3, 16),\n",
        "    (3, 17),\n",
        "    (4, 18),\n",
        "    (4, 19),\n",
        "    (4, 20),\n",
        "    (4, 21),\n",
        "    (5, 22),\n",
        "    (5, 23),\n",
        "    (5, 24),\n",
        "    (5, 25),\n",
        "    (6, 2),\n",
        "    (7, 3),\n",
        "    (8, 4),\n",
        "    (9, 5),\n",
        "    (10, 1),\n",
        "    (11, 3),\n",
        "    (12, 4),\n",
        "    (13, 5),\n",
        "    (14, 1),\n",
        "    (15, 2),\n",
        "    (16, 4),\n",
        "    (17, 5),\n",
        "    (18, 1),\n",
        "    (19, 2),\n",
        "    (20, 3),\n",
        "    (21, 5),\n",
        "    (22, 1),\n",
        "    (23, 2),\n",
        "    (24, 3),\n",
        "    (25, 4),\n",
        "]\n",
        "departure_average = [2.8, 3.7, 5.5, 3.5, 4.6]\n",
        "routing = [\n",
        "    [0, 0.22, 0.32, 0.2, 0.26],\n",
        "    [0.17, 0, 0.34, 0.21, 0.28],\n",
        "    [0.19, 0.26, 0, 0.24, 0.31],\n",
        "    [0.17, 0.22, 0.33, 0, 0.28],\n",
        "    [0.18, 0.24, 0.35, 0.23, 0],\n",
        "]\n",
        "mean_travel_times = [\n",
        "    [0, 3, 5, 7, 7],\n",
        "    [2, 0, 2, 5, 5],\n",
        "    [4, 2, 0, 3, 3],\n",
        "    [8, 6, 4, 0, 2],\n",
        "    [7, 7, 5, 2, 0],\n",
        "]\n",
        "\n",
        "# Measuring lambdas\n",
        "lambdas_j_k = dict()\n",
        "for (j,k) in valid_values_j_k:\n",
        "    # Lambda_j_k for stations\n",
        "    if j <= 5:\n",
        "        source_station = j\n",
        "        source_station_index = j - 1\n",
        "        \n",
        "        road_from_source_number = ((k - 6) % 4) + 1\n",
        "\n",
        "        destination_station = road_from_source_number if road_from_source_number < source_station else road_from_source_number + 1\n",
        "        destination_station_index = destination_station - 1\n",
        "\n",
        "        # print(j,k,source_station , destination_station, road_from_source_number)\n",
        "        lambdas_j_k[(j,k)]= routing[source_station_index][destination_station_index] * departure_average[source_station_index]\n",
        "\n",
        "    else:\n",
        "        source_station = source_station_of_route_colony_i(j)\n",
        "        source_station_index = source_station - 1\n",
        "\n",
        "        destination_station = k\n",
        "        destination_station_index = destination_station - 1\n",
        "\n",
        "        #print(j,k,source_station , destination_station)\n",
        "\n",
        "        lambdas_j_k[(j,k)] = 60 / mean_travel_times[source_station_index][destination_station_index]\n",
        "\n",
        "\n",
        "print(lambdas_j_k)"
      ]
    },
    {
      "cell_type": "markdown",
      "metadata": {
        "id": "LorIQaGPKKQs"
      },
      "source": [
        "#### Calcul des $\\alpha_j$"
      ]
    },
    {
      "cell_type": "code",
      "execution_count": null,
      "metadata": {
        "id": "aaxCAUABKKQs",
        "outputId": "a5c6fd97-2852-4c84-818d-5f98c4490e67"
      },
      "outputs": [
        {
          "name": "stdout",
          "output_type": "stream",
          "text": [
            "[14, 15, 16, 17]\n",
            "[7, 11, 20, 24]\n"
          ]
        }
      ],
      "source": [
        "def routes_from_station_i_colony_numbers(i : int):\n",
        "    return [6 + 4*(i-1) + j for j in range(4)]\n",
        "\n",
        "print(routes_from_station_i_colony_numbers(3))\n",
        "\n",
        "def routes_to_station_i_colony_numbers(i : int):\n",
        "    routes = []\n",
        "    for source_station in range(1,6):\n",
        "        if source_station == i:\n",
        "            continue\n",
        "        else:\n",
        "            road_number = i if i < source_station else i - 1\n",
        "            routes.append(6 + 4*(source_station - 1) + road_number - 1)\n",
        "    return routes\n",
        "\n",
        "\n",
        "print(routes_to_station_i_colony_numbers(3))"
      ]
    },
    {
      "cell_type": "code",
      "execution_count": null,
      "metadata": {
        "id": "3Jnk7p34KKQt"
      },
      "outputs": [],
      "source": [
        "import numpy as np\n",
        "\n",
        "number_of_equations = 25\n",
        "\n",
        "M = np.zeros((number_of_equations,25))\n",
        "X = np.zeros((number_of_equations,1))\n",
        "X[0] = 1\n",
        "M[0] = np.ones(25)\n",
        "\n",
        "for line_of_M in range(1,number_of_equations):\n",
        "    j = line_of_M\n",
        "\n",
        "    if j <= 5:\n",
        "        source_station = j\n",
        "        source_station_index = source_station - 1\n",
        "\n",
        "        colonies_from_source = routes_from_station_i_colony_numbers(i=source_station)\n",
        "        colonies_to_source = routes_to_station_i_colony_numbers(i=source_station)\n",
        "\n",
        "        M[line_of_M][source_station_index]= np.sum([lambdas_j_k[(source_station, route_colony)] for route_colony in colonies_from_source])\n",
        "        for colony_to_source in colonies_to_source:\n",
        "            M[line_of_M][colony_to_source-1] = - lambdas_j_k[(colony_to_source,j)]\n",
        "\n",
        "    else:\n",
        "        source_station = ((j-6)//4) + 1\n",
        "        source_station_index = source_station - 1\n",
        "\n",
        "        road_from_source_number = ((j - 6) % 4) + 1\n",
        "\n",
        "        destination_station = road_from_source_number if road_from_source_number < source_station else road_from_source_number + 1\n",
        "        destination_station_index = destination_station - 1\n",
        "\n",
        "        #print(j,k, source_station, destination_station, source_station_index, destination_station_index)\n",
        "    \n",
        "        M[line_of_M][j - 1] = lambdas_j_k[(j,destination_station)]\n",
        "        M[line_of_M][source_station_index] = - lambdas_j_k[(source_station,j)]\n",
        "\n",
        "        \n",
        "\n",
        "#print(M[0:24:5, :], X.T)"
      ]
    },
    {
      "cell_type": "code",
      "execution_count": null,
      "metadata": {
        "id": "GYmiSNLlKKQt"
      },
      "outputs": [],
      "source": [
        "#Résolution de M^{-1}X\n",
        "import numpy as np\n",
        "\n",
        "alphas = np.dot(np.linalg.inv(M),X)"
      ]
    },
    {
      "cell_type": "markdown",
      "metadata": {
        "id": "_rwoOn-9KKQu"
      },
      "source": [
        "#### Loi stationnaire"
      ]
    },
    {
      "cell_type": "markdown",
      "metadata": {
        "id": "2U-7t0dBKKQu"
      },
      "source": [
        "Ici comme les $\\alpha$ somment à 1, on a $G_N=G_N^{-1}=1$ et $\\pi(e_j)=\\alpha_j$."
      ]
    },
    {
      "cell_type": "markdown",
      "metadata": {
        "id": "Bl6t2uYzKKQu"
      },
      "source": [
        "## Calcul théorique"
      ]
    },
    {
      "cell_type": "markdown",
      "metadata": {
        "id": "hFLoT_vIKKQv"
      },
      "source": [
        "### (1) Equations de trafic"
      ]
    },
    {
      "cell_type": "markdown",
      "metadata": {
        "id": "g1Ig6gwnKKQv"
      },
      "source": [
        "On sait que l'on cherche une loi stationnaire sous la forme:\n",
        "\n",
        "$\\displaystyle\\pi(n)=G_n^{-1}*\\prod_{j=1}^{25}\\frac{\\alpha_j^{n_j}}{\\displaystyle\\prod_{r=1}^{n_j}\\phi_j(r)}$\n",
        "\n",
        "Donc pour $j \\geq 6$ on a un terme en $\\frac{\\alpha_j^{n_j}}{n_j!}$ et pour $j \\leq 5$ un terme $\\alpha_j^{n_j}$ car alors $\\displaystyle\\prod_{r=1}^{n_j}\\phi_j(r) = \\prod_{r=1}^{n_j}\\displaystyle{1\\!\\!1_{\\{r\\geq1\\}}} = 1$.\n",
        "\n",
        "Soit $\\displaystyle\\pi(n)=G_n^{-1}*\\prod_{j=1}^{5}\\alpha_j^{n_j}*\\prod_{j=6}^{25}\\frac{\\alpha_j^{n_j}}{n_j!}$\n",
        "\n",
        "Où, par les équations de balance locale sur $\\pi$, les $\\alpha_j$ vérifie les équations de trafic : \n",
        "$\\alpha_j\\displaystyle\\sum_k\\lambda_{j,k} =\\sum_k\\alpha_k\\lambda_{k,j} $, avec $\\alpha_j>0$ et $\\displaystyle\\sum_j\\alpha_j=1$"
      ]
    },
    {
      "cell_type": "markdown",
      "metadata": {
        "id": "XJHe-qVRKKQw"
      },
      "source": [
        "Ce qui nous donne, en retirant les $\\lambda$ nuls:\n",
        "- si $j\\leq 5$: $\\alpha_j \\sum_{k \\in R_j^+}\\lambda_{j, k}= \\sum_{k \\in R_j^-}\\alpha_{k} * \\lambda_{k, j}$ où $R_j^+$ et $R_j^-$ sont respectivement les indices des routes dont j est le départ et celles dont j est l'arrivée.\n",
        "- si $j\\geq 6$: $\\alpha_j * \\lambda_{j, k_{dest}}= \\alpha_{k_{départ}} * \\lambda_{k_{départ}, j} $ où $k_{dest}$ est l'unique colonie destination de cette route et $k_{départ}$ est l'unique colonie de départ de cette route."
      ]
    },
    {
      "cell_type": "markdown",
      "metadata": {
        "id": "NQip-ZY7KKQw"
      },
      "source": [
        "Soit par exemple pour:\n",
        "- j = 1: $\\alpha_1 * (\\lambda_{1, 6} + \\lambda_{1, 7} + \\lambda_{1, 8} + \\lambda_{1, 9})= \\alpha_{10} * \\lambda_{10, 1} + \\alpha_{14} * \\lambda_{14, 1} + \\alpha_{18} * \\lambda_{18, 1} + \\alpha_{22} * \\lambda_{22, 1}$\n",
        "- j = 6: $\\alpha_6 * \\lambda_{6, 2}= \\alpha_1 * \\lambda_{1, 6} $"
      ]
    },
    {
      "cell_type": "markdown",
      "metadata": {
        "id": "xlJxyV7KKKQx"
      },
      "source": [
        "### (2) Espace d'état"
      ]
    },
    {
      "cell_type": "markdown",
      "metadata": {
        "id": "4Da1Z1ANKKQx"
      },
      "source": [
        "Si on a un seul vélo, l'espace d'état S est réduit à :\n",
        "$S=\\{ n\\in \\{0,1\\}^J, \\sum_{j=1}^J n_j = 1\\}$,où J est le nombre total de colonies.\n",
        "\n",
        "Soit ici J = nombre de stations + nombre de routes, ie $J= 5 + 5(5-1) = 25$\n",
        "\n",
        "Donc on est réduit à choisir dans quelle colonie se trouve l'unique vélo $|S| = |J| = 25$."
      ]
    },
    {
      "cell_type": "markdown",
      "metadata": {
        "id": "JDwTBn6yKKQy"
      },
      "source": [
        "### (3) Probabilité de stations vides"
      ]
    },
    {
      "cell_type": "markdown",
      "metadata": {
        "id": "L9h8lINfKKQy"
      },
      "source": [
        "On note $e_i=(0,...,0,1,0,...0)$ ie le vecteur de taille J avec que des 0 sauf la i-ème coordonnée qui vaut 1.\n",
        "\n",
        "La probabilité qu'une station soit vide, notée $P_{vide}^i \\forall i \\in {1,...,5}$ et qui équivaut au fait de perdre un client souhaitant utiliser un vélo, vaut alors:\n",
        "\n",
        "$\\displaystyle P_{vide}^i=P(n_i=0)=\\sum_{n\\in S, \\sum_{j\\ne i}^J n_j = 1}\\pi(n)=\\sum_{j \\ne i} \\pi(e_j)$\n",
        "\n",
        "Où encore $\\displaystyle P_{vide}=G_n^{-1}*(\\sum_{j \\ne i} \\frac{\\alpha_j^{1}}{1!})=G_n^{-1}*(\\sum_{j \\ne i} \\alpha_j)$\n",
        "\n",
        "De plus, les $\\alpha$ somment à 1 donc $G_n^{-1}=G_n=1$ et $\\displaystyle P_{vide}^i=\\sum_{j \\ne i} \\pi(e_j)= 1 - \\alpha_i$\n"
      ]
    },
    {
      "cell_type": "code",
      "execution_count": null,
      "metadata": {
        "id": "II8vvKAXKKQz",
        "outputId": "8541c5a5-5625-4a8a-daab-94e86bf4aecd"
      },
      "outputs": [
        {
          "name": "stdout",
          "output_type": "stream",
          "text": [
            "Probabilité que chaque station soit vide :  [0.8322, 0.8389, 0.858, 0.8385, 0.8501]\n"
          ]
        }
      ],
      "source": [
        "# Cette probabilité a donc pour valeur ici (en prenant en compte le décalage inhérent au fait que les tableaux\n",
        "# commencent à l'indice 0):\n",
        "P_vide = [round(1 - alphas[i][0],4) for i in range(5)]\n",
        "print(\"Probabilité que chaque station soit vide : \", P_vide)"
      ]
    },
    {
      "cell_type": "markdown",
      "metadata": {
        "id": "eBqsTzGHKKQ0"
      },
      "source": [
        "### (4) Simulation"
      ]
    },
    {
      "attachments": {},
      "cell_type": "markdown",
      "metadata": {},
      "source": [
        "#### Nombre d'évènements"
      ]
    },
    {
      "attachments": {},
      "cell_type": "markdown",
      "metadata": {},
      "source": [
        "En simulant sur 150 heures le cas 1 vélo, on a en moyenne 3500 évènements par simulation et 3000 arrivées de clients en station (en comptant les arrivées ne modifiant pas l'état, ie l'arrivée d'un client à une station vide). En sachant qu'avec les données fournies on a en moyenne 20.1 clients qui arrivent à une station par heures l'ordre de grandeur des arrivées est le bon. Avec les résultats théoriques on sait que le pourcentage de chance qu'une station soit vide est de l'ordre de 83%, un client arrivant à une station a donc environ 17% de chance de pouvoir réaliser un trajet, soit 0.17*3000 = 510 trajets qui peuvent s'effectuer et on arrive bien à 3500 évènements (arrivées de clients et trajets compris).\n",
        "\n",
        "Dans la suite on remarque que, du fait que nos arrivées et nos trajets suivent des lois exponentielles, on peut ignorer les évènements ne modifiant pas l'état et on modifie donc les paramètres des lois d'arrivées aux stations dynamiquement de façon à rendre impossible l'arrivée d'un client à une station tant qu'elle est vide. On a alors toujours autour de 500 arrivées en station et bien exactement le double d'évènements (chaque arrivée de client induisant un trajet)."
      ]
    },
    {
      "attachments": {},
      "cell_type": "markdown",
      "metadata": {},
      "source": [
        "#### Temps d'exécution"
      ]
    },
    {
      "attachments": {},
      "cell_type": "markdown",
      "metadata": {},
      "source": [
        "Nous obtenons avec notre code les temps d'exécution (moyen sur 50 exécutions, processeur Intel(R) Core(TM) i5-8265U CPU @ 1.60GHz (8 CPUs), ~1.8GHz) suivants:\n",
        "\n",
        "| Durée de simulation         | Temps (1 vélo)| Temps (50 vélos)|\n",
        "|-----|:-----:|:-----:|\n",
        "| 150h (6j+)|  0.002s|0.006s|\n",
        "| 1 500h (2mois+)|  0.01s|0.06s|\n",
        "| 15 000h (1.7ans+)| 0.08s |0.4s|\n",
        "| 150 000h (17ans+)| 2s |6s|\n",
        "\n",
        "A un nombre de vélos fixé, les temps d'exécutions sont linéaires en le nombre d'heures de la simulation. C'est logique car le nombre d'évènements est linéaire en cette durée de simulation et gérer les évènements est ce qui nous prend la quasi totalité de notre temps. Plus important, les temps d'exécutions restent très raisonnables et on peut simuler plusieurs années en quelques secondes."
      ]
    },
    {
      "attachments": {},
      "cell_type": "markdown",
      "metadata": {},
      "source": [
        "#### Probabilité simulée que les stations soient vides"
      ]
    },
    {
      "attachments": {},
      "cell_type": "markdown",
      "metadata": {
        "id": "ObzVSc8cKKQ0"
      },
      "source": [
        "Du fait de l'instabilité des résultats sur des simulations à 150h et de la rapidité des simulations, on a d'une part effectué des moyennes sur de nombreuses simulations (100) et d'autre part simulé sur des temps plus longs:\n",
        "\n",
        "| Station         | Probabilité théorique | Probabilité simulée (150h) | Probabilité simulée moyenne (150h) |Probabilité simulée (15000h)|Probabilité simulée (150000h)|\n",
        "|-----|:-----:|:---:|:-----:|:-----:|:-----:|\n",
        "| 1|  83,22% |        85,24% |82,97%|82,97%|83,15%|\n",
        "| 2|  83,89% |        85,61% |84,15%|84,15%|83,91%|\n",
        "| 3|  85,80% |        84,01% |85,79%|85,93%|85,85%|\n",
        "| 4|  83,85% |        82,53% |84,03%|83,89%|83,77%|\n",
        "| 5|  85,01% |        83,97% |84,91%|84,94%|85,04%|\n",
        "\n",
        "Il semble donc que simuler sur plus longtemps ou simuler de nombreuses fois sur temps courts permettent tous les deux de s'approcher d'un résultat correct."
      ]
    },
    {
      "cell_type": "markdown",
      "metadata": {
        "id": "63tygI3qPgWI"
      },
      "source": [
        "**Mettre proba stationnaire et l'analyser + même chose qu'à 50 vélos**"
      ]
    },
    {
      "cell_type": "markdown",
      "metadata": {
        "id": "Sg_c2X2qKKQ0"
      },
      "source": [
        "## Simulation pour 50 vélos"
      ]
    },
    {
      "cell_type": "markdown",
      "metadata": {
        "id": "6IYTWAvgKKQ0"
      },
      "source": [
        "### (5) Espace d'état à 50 vélos"
      ]
    },
    {
      "cell_type": "markdown",
      "metadata": {
        "id": "VkH4T6wZKKQ1"
      },
      "source": [
        "On a que l'espace d'état S est : $S=\\{ n\\in \\{0,50\\}^J, \\sum_{j=1}^J n_j = 50\\}$,où J est le nombre total de colonies.\n",
        "\n",
        "Pour placer 50 vélos dans nos 25 colonies on a donc autant de possibilités que de solutions dans les entiers naturels de l'équation où la somme de 25 entiers fait 50, soit par théorème vu en MITRO205 à Télécom Paris\n",
        "$|S|= \\left( \\begin{array}{cc}\n",
        "    25 + 50 - 1 \\\\\n",
        "    50 \\\\\n",
        "  \\end{array}\\right)$\n"
      ]
    },
    {
      "cell_type": "code",
      "execution_count": null,
      "metadata": {
        "id": "aViuVvkxKKQ1",
        "outputId": "33b98d75-d71b-43bf-e09a-4ab0111ee23f"
      },
      "outputs": [
        {
          "name": "stdout",
          "output_type": "stream",
          "text": [
            "5.3314E+83\n"
          ]
        }
      ],
      "source": [
        "import math\n",
        "\n",
        "print(\"{:.4E}\".format(math.perm(74,50)))"
      ]
    },
    {
      "cell_type": "markdown",
      "metadata": {
        "id": "nzh8jCzTKKQ2"
      },
      "source": [
        "Donc $|S|$ est de l'ordre de $10^{83}$."
      ]
    },
    {
      "cell_type": "markdown",
      "metadata": {
        "id": "Jw9qERFNKKQ2"
      },
      "source": [
        "### (6)/(7) Simulation à 50 vélos"
      ]
    },
    {
      "attachments": {},
      "cell_type": "markdown",
      "metadata": {
        "id": "f9N9T8t4KKQ3"
      },
      "source": [
        "Pour 150h, l'instabilité des résultats à 50 vélos est encore exacerbée, on a donc aussi moyennée les probabilités à 15 000h et 150 000h sur 100 exécutions:\n",
        "\n",
        "| Station         | Probabilité simulée (150h) | Probabilité simulée moyenne (150h) |Probabilité simulée moyenne (15000h)|Probabilité simulée moyenne (150000h)|\n",
        "|-----|:-----:|:-----:|:-----:|:-----:|\n",
        "| 1|  10,00% |        4,26% |4,17%|4,16%|\n",
        "| 2|  20,89% |        7,10% |7,92%|8,01%|\n",
        "| 3|  12,63% |        17,76% |18,84%|18,94%|\n",
        "| 4|  0,00% |        7,20% |7,85%|7,82%|\n",
        "| 5|  13,52% |        12,74% |14,38%|14,43%|\n",
        "\n",
        "Si on compare les stations par nombre d'arrivées par heure croissants on a : 1 < 4 < 2 < 5 < 3. Pour les probabilités que les stations soient vides on observe les mêmes répartitions en regardant les deux dernières colonnes, ce qui est rassurant. Vu que la matrice de routage est relativement équilibrée on s'attend en effet à ce que plus une station voit d'arrivées de clients plus elle est souvent vide. On a de plus les probabilités pour les stations 2 et 4 proches ce qui est rassurant car se sont elles qui ont les taux d'arrivées les plus proches.\n",
        "\n"
      ]
    },
    {
      "cell_type": "markdown",
      "metadata": {
        "id": "DgCwOOR7LE4R"
      },
      "source": [
        "**Etude plus approfondie de l'instabilité : même tableau qu'au dessus mais avec écart-type sur 50 runs**"
      ]
    },
    {
      "cell_type": "markdown",
      "metadata": {
        "id": "EDIu72oWQi3E"
      },
      "source": [
        "**Plot du nombre de vélos dans chaque station**"
      ]
    }
  ],
  "metadata": {
    "colab": {
      "provenance": []
    },
    "kernelspec": {
      "display_name": "Python 3",
      "language": "python",
      "name": "python3"
    },
    "language_info": {
      "codemirror_mode": {
        "name": "ipython",
        "version": 3
      },
      "file_extension": ".py",
      "mimetype": "text/x-python",
      "name": "python",
      "nbconvert_exporter": "python",
      "pygments_lexer": "ipython3",
      "version": "3.10.2 (tags/v3.10.2:a58ebcc, Jan 17 2022, 14:12:15) [MSC v.1929 64 bit (AMD64)]"
    },
    "orig_nbformat": 4,
    "vscode": {
      "interpreter": {
        "hash": "a0640559756d26b7d7d4e24718f12fe867862a4dd781109e44185d497419106b"
      }
    }
  },
  "nbformat": 4,
  "nbformat_minor": 0
}
