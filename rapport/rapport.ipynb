{
 "cells": [
  {
   "attachments": {},
   "cell_type": "markdown",
   "metadata": {},
   "source": [
    "# Rapport projet FAT (Barreaux Alexis - Belfer Adrien)\n"
   ]
  },
  {
   "attachments": {},
   "cell_type": "markdown",
   "metadata": {},
   "source": [
    "## Modélisation\n",
    "\n",
    "On suppose dans le modèle des colonies que le taux de passage de l'état $n$ à l'état $T_{jk}(n)$ (ie un vélo est passé de la colonie j à la colonie k), notée $q(n,T_{jk}(n))$, vérifie $q(n,T_{jk}(n)) = \\lambda_{jk}\\phi_j(n_j), \\phi_j(0)=0$\n",
    "\n",
    "De plus, on a bien ici que le système est irréductible car on peut aller de toute station (a fortiori colonie) à toute autre en un nombre fini d'étapes. Donc on se trouve bien dans un processus fermé de migration.\n",
    "\n",
    "Si on est dans une colonie qui correspond à une route, on est forcément \"servi\" et tout se passe comme si on avait un nombre infini de serveurs. Si on est dans une station par contre, on ne peut être \"servi\" que si il y a un vélo en place. Dans toute la suite, les 5 premières colonies correspondent aux stations et les 20 suivantes aux routes. On a donc :\n",
    "\n",
    "$\\phi_j(n) = n_j$ si $j \\geq 6, \\displaystyle{1\\!\\!1_{\\{n_j\\geq1\\}}}$ sinon.\n",
    "\n",
    "De même, si on est dans une colonie j qui correspond à une route, $\\lambda_{jk}$ est nul si k n'est pas la destination de la route et sinon correspond à l'inverse du temps moyen de parcours. C'est-à-dire, si on est dans la colonie qui correspond à la route $1 \\rightarrow 2$ par exemple, $\\lambda_{jk} = 0, k \\ne2$ et $\\lambda_{jk} = 60 *1/3$ sinon, où le 60 intervient pour être homogène en heures.\n",
    "\n",
    "Si par contre $j \\leq 5$, on se trouve dans une colonie et $\\lambda_{jk}$ est nul si k n'est pas une route partant de cette colonie, et vaut la probabilité de choisir le chemin $j \\rightarrow k$ multiplié par le taux de départ de j. Soit par exemple si on se trouve dans la station 1 et qu'on part vers 2: $\\lambda_{jk}= 0.22 * 2.8$.\n",
    "\n",
    "D'où au final:\n",
    "- si $j \\leq 5$: $q(n,T_{jk}(n))= \\displaystyle{1\\!\\!1_{\\{6 + 4(j+1) \\leq k \\leq 5 + 4*j\\}}}*p_{j,k}*\\lambda_j* \\displaystyle{1\\!\\!1_{\\{n_j\\geq1\\}}}$, où $\\displaystyle{1\\!\\!1_{\\{6 + 4(j+1) \\leq k \\leq 5 + 4*j\\}}}$ vérifie que k est une colonie correspond à une route partant de la station, $p_{j,k}$ la probabilité d'aller de j à k dans la matrice de routage et $\\lambda_j$ le taux de départ de la station.\n",
    "- sinon, si $j \\geq 6$: $q(n,T_{jk}(n))= \\displaystyle{1\\!\\!1_{\\{k=dest\\}}} * 60 * 1/t_j * n_j$, où $\\displaystyle{1\\!\\!1_{\\{k = dest\\}}}$ vérifie que k est bien la destination de la route et $t_j$ est le temps moyen du trajet en minutes."
   ]
  },
  {
   "attachments": {},
   "cell_type": "markdown",
   "metadata": {},
   "source": [
    "## Calcul théorique"
   ]
  },
  {
   "attachments": {},
   "cell_type": "markdown",
   "metadata": {},
   "source": [
    "### (1) Equations de trafic\n"
   ]
  },
  {
   "attachments": {},
   "cell_type": "markdown",
   "metadata": {},
   "source": [
    "### (2) Espace d'état\n",
    "\n",
    "Si on a un seul vélo, l'espace d'état S est réduit à :\n",
    "$S=\\{ n\\in \\{0,1\\}^J, \\sum_{j=1}^J n_j = 1\\}$,où J est le nombre total de colonies.\n",
    "\n",
    "Soit ici J = nombre de stations + nombre de routes, ie $J= 5 + 5(5-1) = 25$\n",
    "\n",
    "Donc on est réduit à choisir dans quelle colonie se trouve l'unique vélo $|S| = |J| = 25$."
   ]
  },
  {
   "cell_type": "markdown",
   "metadata": {},
   "source": []
  }
 ],
 "metadata": {
  "kernelspec": {
   "display_name": "Python 3",
   "language": "python",
   "name": "python3"
  },
  "language_info": {
   "codemirror_mode": {
    "name": "ipython",
    "version": 3
   },
   "file_extension": ".py",
   "mimetype": "text/x-python",
   "name": "python",
   "nbconvert_exporter": "python",
   "pygments_lexer": "ipython3",
   "version": "3.10.2 (tags/v3.10.2:a58ebcc, Jan 17 2022, 14:12:15) [MSC v.1929 64 bit (AMD64)]"
  },
  "orig_nbformat": 4,
  "vscode": {
   "interpreter": {
    "hash": "a0640559756d26b7d7d4e24718f12fe867862a4dd781109e44185d497419106b"
   }
  }
 },
 "nbformat": 4,
 "nbformat_minor": 2
}
