{
 "cells": [
  {
   "attachments": {},
   "cell_type": "markdown",
   "metadata": {},
   "source": [
    "# Rapport projet FAT (Barreaux Alexis - Belfer Adrien)\n",
    "## Calcul théorique"
   ]
  },
  {
   "attachments": {},
   "cell_type": "markdown",
   "metadata": {},
   "source": [
    "### (1) Equations de trafic\n",
    "\n",
    "On \n",
    "$q(n,T_{jk}(n)) = \\lambda_{jk}\\phi_j(n_j), \\phi_j(0)=0$"
   ]
  },
  {
   "attachments": {},
   "cell_type": "markdown",
   "metadata": {},
   "source": [
    "### (2) Espace d'état\n",
    "\n",
    "Si on a un seul vélo, l'espace d'état S est réduit à :\n",
    "$S=\\{ n\\in \\{0,1\\}^J, \\sum_{j=1}^J n_j = 1\\}$,où J est le nombre total de colonies.\n",
    "\n",
    "Soit ici J = nombre de stations + nombre de routes, ie $J= 5 + 5(5-1)/2 = 15$\n",
    "\n",
    "Donc on est réduit à choisir dans quelle colonie se trouve l'unique vélo $|S| = |J| = 15$."
   ]
  },
  {
   "cell_type": "markdown",
   "metadata": {},
   "source": []
  }
 ],
 "metadata": {
  "kernelspec": {
   "display_name": "Python 3",
   "language": "python",
   "name": "python3"
  },
  "language_info": {
   "name": "python",
   "version": "3.10.2 (tags/v3.10.2:a58ebcc, Jan 17 2022, 14:12:15) [MSC v.1929 64 bit (AMD64)]"
  },
  "orig_nbformat": 4,
  "vscode": {
   "interpreter": {
    "hash": "a0640559756d26b7d7d4e24718f12fe867862a4dd781109e44185d497419106b"
   }
  }
 },
 "nbformat": 4,
 "nbformat_minor": 2
}
