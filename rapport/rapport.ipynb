{
 "cells": [
  {
   "attachments": {},
   "cell_type": "markdown",
   "metadata": {},
   "source": [
    "# Rapport projet FAT (Barreaux Alexis - Belfer Adrien)\n"
   ]
  },
  {
   "attachments": {},
   "cell_type": "markdown",
   "metadata": {},
   "source": [
    "## Modélisation"
   ]
  },
  {
   "attachments": {},
   "cell_type": "markdown",
   "metadata": {},
   "source": [
    "Cette partie contient simplement les choix fait en terme de modélisation et le calcul des $\\alpha$, elle peut donc être passée au besoin."
   ]
  },
  {
   "attachments": {},
   "cell_type": "markdown",
   "metadata": {},
   "source": [
    "### Modèle utilisé"
   ]
  },
  {
   "attachments": {},
   "cell_type": "markdown",
   "metadata": {},
   "source": [
    "On suppose dans le modèle des colonies que le taux de passage de l'état $n$ à l'état $T_{jk}(n)$ (ie un vélo est passé de la colonie j à la colonie k), notée $q(n,T_{jk}(n))$, vérifie $q(n,T_{jk}(n)) = \\lambda_{jk}\\phi_j(n_j), \\phi_j(0)=0$\n",
    "\n",
    "De plus, on a bien ici que le système est irréductible car on peut aller de toute station (a fortiori colonie) à toute autre en un nombre fini d'étapes. Donc on se trouve bien dans un processus fermé de migration.\n",
    "\n",
    "Si on est dans une colonie qui correspond à une route, on est forcément \"servi\" et tout se passe comme si on avait un nombre infini de serveurs. Si on est dans une station par contre, on ne peut être \"servi\" que si il y a un vélo en place. Dans toute la suite, les 5 premières colonies correspondent aux stations et les 20 suivantes aux routes. On a donc :\n",
    "\n",
    "$\\phi_j(n) = n_j$ si $j \\geq 6, \\displaystyle{1\\!\\!1_{\\{n_j\\geq1\\}}}$ sinon.\n",
    "\n",
    "De même, si on est dans une colonie j qui correspond à une route, $\\lambda_{jk}$ est nul si k n'est pas la destination de la route et sinon correspond à l'inverse du temps moyen de parcours. C'est-à-dire, si on est dans la colonie qui correspond à la route $1 \\rightarrow 2$ par exemple, $\\lambda_{jk} = 0, k \\ne2$ et $\\lambda_{jk} = 60 *\\frac{1}{3}$ sinon, où le 60 intervient pour être homogène en heures.\n",
    "\n",
    "Si par contre $j \\leq 5$, on se trouve dans une colonie et $\\lambda_{jk}$ est nul si k n'est pas une route partant de cette colonie, et vaut la probabilité de choisir le chemin $j \\rightarrow k$ multiplié par le taux de départ de j. Soit par exemple si on se trouve dans la station 1 et qu'on part vers 2: $\\lambda_{jk}= 0.22 * 2.8$.\n",
    "\n",
    "D'où au final:\n",
    "- si $(j,k) \\not\\in $ $$\\{(1, 6), (1, 7), (1, 8), (1, 9), (2, 10), (2, 11), (2, 12), (2, 13), (3, 14), (3, 15), \\\\\n",
    "(3, 16), (3, 17),(4, 18), (4, 19), (4, 20), (4, 21), (5, 22), (5, 23), (5, 24), (5, 25) \\} \\\\ \n",
    "\\cup\\{ (6, 2), (7, 3), (8, 4), (9, 5), (10, 1), (11, 3), (12, 4), (13, 5), (14, 1), (15, 2), (16, 4),\\\\\n",
    " (17, 5), (18, 1), (19, 2), (20, 3), (21, 5), (22, 1), (23, 2), (24, 3), (25, 4)\\}$$\n",
    "$q(n,T_{jk}(n))=0$\n",
    "- sinon et si $j \\leq 5$: $q(n,T_{jk}(n))= p_{j,k}*\\lambda_j* \\displaystyle{1\\!\\!1_{\\{n_j\\geq1\\}}}$, où $p_{j,k}$ la probabilité en étant dans la colonie/station j de choisir le trajet associé à la colonie k (voir la matrice de routage) et $\\lambda_j$ le taux de départ de la station.\n",
    "- sinon et si $j \\geq 6$: $q(n,T_{jk}(n))= 60 * \\frac{1}{t_j} * n_j$, où $t_j$ est le temps moyen du trajet associé à la colonie en minutes."
   ]
  },
  {
   "attachments": {},
   "cell_type": "markdown",
   "metadata": {},
   "source": [
    "### Loi stationnaire"
   ]
  },
  {
   "attachments": {},
   "cell_type": "markdown",
   "metadata": {},
   "source": [
    "#### Calcul des $\\lambda_{j,k}$"
   ]
  },
  {
   "cell_type": "code",
   "execution_count": 40,
   "metadata": {},
   "outputs": [
    {
     "name": "stdout",
     "output_type": "stream",
     "text": [
      "{(1, 6): 0.616, (1, 7): 0.8959999999999999, (1, 8): 0.5599999999999999, (1, 9): 0.728, (2, 10): 0.6290000000000001, (2, 11): 1.2580000000000002, (2, 12): 0.777, (2, 13): 1.0360000000000003, (3, 14): 1.045, (3, 15): 1.4300000000000002, (3, 16): 1.3199999999999998, (3, 17): 1.705, (4, 18): 0.5950000000000001, (4, 19): 0.77, (4, 20): 1.155, (4, 21): 0.9800000000000001, (5, 22): 0.828, (5, 23): 1.1039999999999999, (5, 24): 1.6099999999999999, (5, 25): 1.058, (6, 2): 20.0, (7, 3): 12.0, (8, 4): 8.571428571428571, (9, 5): 8.571428571428571, (10, 1): 30.0, (11, 3): 30.0, (12, 4): 12.0, (13, 5): 12.0, (14, 1): 15.0, (15, 2): 30.0, (16, 4): 20.0, (17, 5): 20.0, (18, 1): 7.5, (19, 2): 10.0, (20, 3): 15.0, (21, 5): 30.0, (22, 1): 8.571428571428571, (23, 2): 8.571428571428571, (24, 3): 12.0, (25, 4): 30.0}\n"
     ]
    }
   ],
   "source": [
    "def source_station_of_route_colony_i(i:int):\n",
    "    return ((i-6)//4) + 1\n",
    "\n",
    "# Data definition\n",
    "valid_values_j_k = [\n",
    "    (1, 6),\n",
    "    (1, 7),\n",
    "    (1, 8),\n",
    "    (1, 9),\n",
    "    (2, 10),\n",
    "    (2, 11),\n",
    "    (2, 12),\n",
    "    (2, 13),\n",
    "    (3, 14),\n",
    "    (3, 15),\n",
    "    (3, 16),\n",
    "    (3, 17),\n",
    "    (4, 18),\n",
    "    (4, 19),\n",
    "    (4, 20),\n",
    "    (4, 21),\n",
    "    (5, 22),\n",
    "    (5, 23),\n",
    "    (5, 24),\n",
    "    (5, 25),\n",
    "    (6, 2),\n",
    "    (7, 3),\n",
    "    (8, 4),\n",
    "    (9, 5),\n",
    "    (10, 1),\n",
    "    (11, 3),\n",
    "    (12, 4),\n",
    "    (13, 5),\n",
    "    (14, 1),\n",
    "    (15, 2),\n",
    "    (16, 4),\n",
    "    (17, 5),\n",
    "    (18, 1),\n",
    "    (19, 2),\n",
    "    (20, 3),\n",
    "    (21, 5),\n",
    "    (22, 1),\n",
    "    (23, 2),\n",
    "    (24, 3),\n",
    "    (25, 4),\n",
    "]\n",
    "departure_average = [2.8, 3.7, 5.5, 3.5, 4.6]\n",
    "routing = [\n",
    "    [0, 0.22, 0.32, 0.2, 0.26],\n",
    "    [0.17, 0, 0.34, 0.21, 0.28],\n",
    "    [0.19, 0.26, 0, 0.24, 0.31],\n",
    "    [0.17, 0.22, 0.33, 0, 0.28],\n",
    "    [0.18, 0.24, 0.35, 0.23, 0],\n",
    "]\n",
    "mean_travel_times = [\n",
    "    [0, 3, 5, 7, 7],\n",
    "    [2, 0, 2, 5, 5],\n",
    "    [4, 2, 0, 3, 3],\n",
    "    [8, 6, 4, 0, 2],\n",
    "    [7, 7, 5, 2, 0],\n",
    "]\n",
    "\n",
    "# Measuring lambdas\n",
    "lambdas_j_k = dict()\n",
    "for (j,k) in valid_values_j_k:\n",
    "    # Lambda_j_k for stations\n",
    "    if j <= 5:\n",
    "        source_station = j\n",
    "        source_station_index = j - 1\n",
    "        \n",
    "        road_from_source_number = ((k - 6) % 4) + 1\n",
    "\n",
    "        destination_station = road_from_source_number if road_from_source_number < source_station else road_from_source_number + 1\n",
    "        destination_station_index = destination_station - 1\n",
    "\n",
    "        # print(j,k,source_station , destination_station, road_from_source_number)\n",
    "        lambdas_j_k[(j,k)]= routing[source_station_index][destination_station_index] * departure_average[source_station_index]\n",
    "\n",
    "    else:\n",
    "        source_station = source_station_of_route_colony_i(j)\n",
    "        source_station_index = source_station - 1\n",
    "\n",
    "        destination_station = k\n",
    "        destination_station_index = destination_station - 1\n",
    "\n",
    "        #print(j,k,source_station , destination_station)\n",
    "\n",
    "        lambdas_j_k[(j,k)] = 60 / mean_travel_times[source_station_index][destination_station_index]\n",
    "\n",
    "\n",
    "print(lambdas_j_k)"
   ]
  },
  {
   "attachments": {},
   "cell_type": "markdown",
   "metadata": {},
   "source": [
    "#### Calcul des $\\alpha_j$"
   ]
  },
  {
   "cell_type": "code",
   "execution_count": 41,
   "metadata": {},
   "outputs": [
    {
     "name": "stdout",
     "output_type": "stream",
     "text": [
      "[14, 15, 16, 17]\n",
      "[7, 11, 20, 24]\n"
     ]
    }
   ],
   "source": [
    "def routes_from_station_i_colony_numbers(i : int):\n",
    "    return [6 + 4*(i-1) + j for j in range(4)]\n",
    "\n",
    "print(routes_from_station_i_colony_numbers(3))\n",
    "\n",
    "def routes_to_station_i_colony_numbers(i : int):\n",
    "    routes = []\n",
    "    for source_station in range(1,6):\n",
    "        if source_station == i:\n",
    "            continue\n",
    "        else:\n",
    "            road_number = i if i < source_station else i - 1\n",
    "            routes.append(6 + 4*(source_station - 1) + road_number - 1)\n",
    "    return routes\n",
    "\n",
    "\n",
    "print(routes_to_station_i_colony_numbers(3))"
   ]
  },
  {
   "cell_type": "code",
   "execution_count": 42,
   "metadata": {},
   "outputs": [],
   "source": [
    "import numpy as np\n",
    "\n",
    "number_of_equations = 25\n",
    "\n",
    "M = np.zeros((number_of_equations,25))\n",
    "X = np.zeros((number_of_equations,1))\n",
    "X[0] = 1\n",
    "M[0] = np.ones(25)\n",
    "\n",
    "for line_of_M in range(1,number_of_equations):\n",
    "    j = line_of_M\n",
    "\n",
    "    if j <= 5:\n",
    "        source_station = j\n",
    "        source_station_index = source_station - 1\n",
    "\n",
    "        colonies_from_source = routes_from_station_i_colony_numbers(i=source_station)\n",
    "        colonies_to_source = routes_to_station_i_colony_numbers(i=source_station)\n",
    "\n",
    "        M[line_of_M][source_station_index]= np.sum([lambdas_j_k[(source_station, route_colony)] for route_colony in colonies_from_source])\n",
    "        for colony_to_source in colonies_to_source:\n",
    "            M[line_of_M][colony_to_source-1] = - lambdas_j_k[(colony_to_source,j)]\n",
    "\n",
    "    else:\n",
    "        source_station = ((j-6)//4) + 1\n",
    "        source_station_index = source_station - 1\n",
    "\n",
    "        road_from_source_number = ((j - 6) % 4) + 1\n",
    "\n",
    "        destination_station = road_from_source_number if road_from_source_number < source_station else road_from_source_number + 1\n",
    "        destination_station_index = destination_station - 1\n",
    "\n",
    "        #print(j,k, source_station, destination_station, source_station_index, destination_station_index)\n",
    "    \n",
    "        M[line_of_M][j - 1] = lambdas_j_k[(j,destination_station)]\n",
    "        M[line_of_M][source_station_index] = - lambdas_j_k[(source_station,j)]\n",
    "\n",
    "        \n",
    "\n",
    "#print(M[0:24:5, :], X.T)"
   ]
  },
  {
   "cell_type": "code",
   "execution_count": 43,
   "metadata": {},
   "outputs": [],
   "source": [
    "#Résolution de M^{-1}X\n",
    "import numpy as np\n",
    "\n",
    "alphas = np.dot(np.linalg.inv(M),X)"
   ]
  },
  {
   "attachments": {},
   "cell_type": "markdown",
   "metadata": {},
   "source": [
    "#### Loi stationnaire"
   ]
  },
  {
   "attachments": {},
   "cell_type": "markdown",
   "metadata": {},
   "source": [
    "Ici comme les $\\alpha$ somment à 1, on a $G_N=G_N^{-1}=1$ et $\\pi(e_j)=\\alpha_j$."
   ]
  },
  {
   "attachments": {},
   "cell_type": "markdown",
   "metadata": {},
   "source": [
    "## Calcul théorique"
   ]
  },
  {
   "attachments": {},
   "cell_type": "markdown",
   "metadata": {},
   "source": [
    "### (1) Equations de trafic"
   ]
  },
  {
   "attachments": {},
   "cell_type": "markdown",
   "metadata": {},
   "source": [
    "On sait que l'on cherche une loi stationnaire sous la forme:\n",
    "\n",
    "$\\displaystyle\\pi(n)=G_n^{-1}*\\prod_{j=1}^{25}\\frac{\\alpha_j^{n_j}}{\\displaystyle\\prod_{r=1}^{n_j}\\phi_j(r)}$\n",
    "\n",
    "Donc pour $j \\geq 6$ on a un terme en $\\frac{\\alpha_j^{n_j}}{n_j!}$ et pour $j \\leq 5$ un terme $\\alpha_j^{n_j}$ car alors $\\displaystyle\\prod_{r=1}^{n_j}\\phi_j(r) = \\prod_{r=1}^{n_j}\\displaystyle{1\\!\\!1_{\\{r\\geq1\\}}} = 1$.\n",
    "\n",
    "Soit $\\displaystyle\\pi(n)=G_n^{-1}*\\prod_{j=1}^{5}\\alpha_j^{n_j}*\\prod_{j=6}^{25}\\frac{\\alpha_j^{n_j}}{n_j!}$\n",
    "\n",
    "Où, par les équations de balance locale sur $\\pi$, les $\\alpha_j$ vérifie les équations de trafic : \n",
    "$\\alpha_j\\displaystyle\\sum_k\\lambda_{j,k} =\\sum_k\\alpha_k\\lambda_{k,j} $, avec $\\alpha_j>0$ et $\\displaystyle\\sum_j\\alpha_j=1$"
   ]
  },
  {
   "attachments": {},
   "cell_type": "markdown",
   "metadata": {},
   "source": [
    "Ce qui nous donne, en retirant les $\\lambda$ nuls:\n",
    "- si $j\\leq 5$: $\\alpha_j \\sum_{k \\in R_j^+}\\lambda_{j, k}= \\sum_{k \\in R_j^-}\\alpha_{k} * \\lambda_{k, j}$ où $R_j^+$ et $R_j^-$ sont respectivement les indices des routes dont j est le départ et celles dont j est l'arrivée.\n",
    "- si $j\\geq 6$: $\\alpha_j * \\lambda_{j, k_{dest}}= \\alpha_{k_{départ}} * \\lambda_{k_{départ}, j} $ où $k_{dest}$ est l'unique colonie destination de cette route et $k_{départ}$ est l'unique colonie de départ de cette route."
   ]
  },
  {
   "attachments": {},
   "cell_type": "markdown",
   "metadata": {},
   "source": [
    "Soit par exemple pour:\n",
    "- j = 1: $\\alpha_1 * (\\lambda_{1, 6} + \\lambda_{1, 7} + \\lambda_{1, 8} + \\lambda_{1, 9})= \\alpha_{10} * \\lambda_{10, 1} + \\alpha_{14} * \\lambda_{14, 1} + \\alpha_{18} * \\lambda_{18, 1} + \\alpha_{22} * \\lambda_{22, 1}$\n",
    "- j = 6: $\\alpha_6 * \\lambda_{6, 2}= \\alpha_1 * \\lambda_{1, 6} $"
   ]
  },
  {
   "attachments": {},
   "cell_type": "markdown",
   "metadata": {},
   "source": [
    "### (2) Espace d'état"
   ]
  },
  {
   "attachments": {},
   "cell_type": "markdown",
   "metadata": {},
   "source": [
    "Si on a un seul vélo, l'espace d'état S est réduit à :\n",
    "$S=\\{ n\\in \\{0,1\\}^J, \\sum_{j=1}^J n_j = 1\\}$,où J est le nombre total de colonies.\n",
    "\n",
    "Soit ici J = nombre de stations + nombre de routes, ie $J= 5 + 5(5-1) = 25$\n",
    "\n",
    "Donc on est réduit à choisir dans quelle colonie se trouve l'unique vélo $|S| = |J| = 25$."
   ]
  },
  {
   "attachments": {},
   "cell_type": "markdown",
   "metadata": {},
   "source": [
    "### (3) Probabilité de stations vides"
   ]
  },
  {
   "attachments": {},
   "cell_type": "markdown",
   "metadata": {},
   "source": [
    "On note $e_i=(0,...,0,1,0,...0)$ ie le vecteur de taille J avec que des 0 sauf la i-ème coordonnée qui vaut 1.\n",
    "\n",
    "Cette probabilité, notée $P_{vide}$ et qui équivaut au fait de perdre un client souhaitant utilisé un vélo, vaut alors:\n",
    "\n",
    "$\\displaystyle P_{vide}=P(n_1=n_2=n_3=n_4=n_5=0)=\\sum_{n\\in S, \\sum_{j=6}^J n_j = 1}\\pi(n)=\\sum_{j=6}^{25} \\pi(e_j)$\n",
    "\n",
    "Où encore $\\displaystyle P_{vide}=G_n^{-1}*(\\sum_{j=6}^{25} \\frac{\\alpha_j^{1}}{1!})=G_n^{-1}*(\\sum_{j=6}^{25} \\alpha_j)$"
   ]
  },
  {
   "cell_type": "code",
   "execution_count": 50,
   "metadata": {},
   "outputs": [
    {
     "name": "stdout",
     "output_type": "stream",
     "text": [
      "Probabilité que toutes les stations soient vides:  0.2177 à E-4 près.\n"
     ]
    }
   ],
   "source": [
    "# Cette probabilité a donc pour valeur ici (en prenant en compte le décalage inhérent au fait que les tableaux\n",
    "# commencent à l'indice 0):\n",
    "\n",
    "P_vide = np.sum(alphas[5:])\n",
    "print(\"Probabilité que toutes les stations soient vides: \", round(P_vide,4), \"à E-4 près.\")"
   ]
  },
  {
   "attachments": {},
   "cell_type": "markdown",
   "metadata": {},
   "source": [
    "### (4) Simulation"
   ]
  },
  {
   "attachments": {},
   "cell_type": "markdown",
   "metadata": {},
   "source": [
    "On a donc en théorie 21,77% de temps où toutes les station sont vides avec un seul vélo. Par la simulation on trouve pour 150 heures la valeur de 20,9%. En poussant à 150 000 heures on obtient toutefois 21,73%.\n",
    "\n",
    "Remarque: les probabilités que les différentes stations soient vides sont respectivement (valeur théorique / valeur simulée sur 150 heures):\n",
    "- station 1: 83,22% / 84,30%\n",
    "- station 2: 83,89% / 86,17%\n",
    "- station 3: 85,80% / 83,52%\n",
    "- station 4: 83,85% / 83,77%\n",
    "- station 5: 85,01% / 84,41%"
   ]
  }
 ],
 "metadata": {
  "kernelspec": {
   "display_name": "Python 3",
   "language": "python",
   "name": "python3"
  },
  "language_info": {
   "codemirror_mode": {
    "name": "ipython",
    "version": 3
   },
   "file_extension": ".py",
   "mimetype": "text/x-python",
   "name": "python",
   "nbconvert_exporter": "python",
   "pygments_lexer": "ipython3",
   "version": "3.10.2"
  },
  "orig_nbformat": 4,
  "vscode": {
   "interpreter": {
    "hash": "a0640559756d26b7d7d4e24718f12fe867862a4dd781109e44185d497419106b"
   }
  }
 },
 "nbformat": 4,
 "nbformat_minor": 2
}
